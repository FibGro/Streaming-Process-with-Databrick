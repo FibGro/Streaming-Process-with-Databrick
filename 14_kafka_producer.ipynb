{
 "cells": [
  {
   "cell_type": "code",
   "execution_count": 0,
   "metadata": {
    "application/vnd.databricks.v1+cell": {
     "cellMetadata": {},
     "inputWidgets": {},
     "nuid": "1caa4210-b36d-4bf1-99c1-89f2994c98da",
     "showTitle": false,
     "title": ""
    }
   },
   "outputs": [],
   "source": [
    "# Databricks notebook source\n",
    "class KafkaProducer():\n",
    "    def __init__(self):\n",
    "        self.base_data_dir = \"/FileStore/data_spark_streaming_scholarnest\"\n",
    "        self.BOOTSTRAP_SERVER = \"pkc-12576z.us-west2.gcp.confluent.cloud:9092\"\n",
    "        self.JAAS_MODULE = \"org.apache.kafka.common.security.plain.PlainLoginModule\"\n",
    "        self.CLUSTER_API_KEY = \"VYW5BED6EJIFZK44\"\n",
    "        self.CLUSTER_API_SECRET = \"i6Jer5prVfNY5uTosr9XK5Oi944sjClEY5IBTMhPL/geVMUgK+vyV3sQie56GQxe\"\n",
    "\n",
    "    def getSchema(self):\n",
    "        return \"\"\"InvoiceNumber string, CreatedTime bigint, StoreID string, PosID string, CashierID string,\n",
    "                CustomerType string, CustomerCardNo string, TotalAmount double, NumberOfItems bigint, \n",
    "                PaymentMethod string, TaxableAmount double, CGST double, SGST double, CESS double, \n",
    "                DeliveryType string,\n",
    "                DeliveryAddress struct<AddressLine string, City string, ContactNumber string, PinCode string, \n",
    "                State string>,\n",
    "                InvoiceLineItems array<struct<ItemCode string, ItemDescription string, \n",
    "                    ItemPrice double, ItemQty bigint, TotalValue double>>\n",
    "            \"\"\"\n",
    "\n",
    "    def readInvoices(self, condition):\n",
    "        from pyspark.sql.functions import expr\n",
    "        return (spark.readStream\n",
    "                    .format(\"json\")\n",
    "                    .schema(self.getSchema())\n",
    "                    .load(f\"{self.base_data_dir}/data/invoices\")\n",
    "                    .where(condition)\n",
    "                )\n",
    "        \n",
    "    def getKafkaMessage(self, df, key):\n",
    "        return df.selectExpr(f\"{key} as key\", \"to_json(struct(*)) as value\")\n",
    "    \n",
    "    def sendToKafka(self, kafka_df):\n",
    "        return ( kafka_df.writeStream\n",
    "                    .queryName(\"kafka-producer\")\n",
    "                    .format(\"kafka\")\n",
    "                    .option(\"kafka.bootstrap.servers\", self.BOOTSTRAP_SERVER)\n",
    "                    .option(\"kafka.security.protocol\", \"SASL_SSL\")\n",
    "                    .option(\"kafka.sasl.mechanism\", \"PLAIN\")\n",
    "                    .option(\"kafka.sasl.jaas.config\", f\"{self.JAAS_MODULE} required username='{self.CLUSTER_API_KEY}' password='{self.CLUSTER_API_SECRET}';\")\n",
    "                    .option(\"topic\", \"invoices\")\n",
    "                    .option(\"checkpointLocation\", f\"{self.base_data_dir}/chekpoint/kafka_producer\")\n",
    "                    .outputMode(\"append\")\n",
    "                    .start()\n",
    "            )       \n",
    "\n",
    "    def process(self, condition):\n",
    "           print(f\"Starting Kafka Producer Stream...\", end='')\n",
    "           invoices_df = self.readInvoices(condition)\n",
    "           kafka_df = self.getKafkaMessage(invoices_df, \"StoreID\")\n",
    "           sQuery = self.sendToKafka(kafka_df)\n",
    "           print(\"Done\\n\")\n",
    "           return sQuery     \n"
   ]
  }
 ],
 "metadata": {
  "application/vnd.databricks.v1+notebook": {
   "dashboards": [],
   "environmentMetadata": null,
   "language": "python",
   "notebookMetadata": {
    "pythonIndentUnit": 4
   },
   "notebookName": "14_kafka_producer",
   "widgets": {}
  }
 },
 "nbformat": 4,
 "nbformat_minor": 0
}
