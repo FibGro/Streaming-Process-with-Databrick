{
 "cells": [
  {
   "cell_type": "code",
   "execution_count": 0,
   "metadata": {
    "application/vnd.databricks.v1+cell": {
     "cellMetadata": {
      "byteLimit": 2048000,
      "rowLimit": 10000
     },
     "inputWidgets": {},
     "nuid": "f296e576-a13c-4d7e-9578-c9e55fcc221e",
     "showTitle": false,
     "title": ""
    }
   },
   "outputs": [],
   "source": [
    "%run ./12_idempotence_kafka"
   ]
  },
  {
   "cell_type": "code",
   "execution_count": 0,
   "metadata": {
    "application/vnd.databricks.v1+cell": {
     "cellMetadata": {
      "byteLimit": 2048000,
      "rowLimit": 10000
     },
     "inputWidgets": {},
     "nuid": "ac42a0c9-b957-40b3-a190-e6992e151c56",
     "showTitle": false,
     "title": ""
    }
   },
   "outputs": [
    {
     "output_type": "stream",
     "name": "stdout",
     "output_type": "stream",
     "text": [
      "Starting Cleanup...Done\nTesting Scenario - Start from beginneing on a new checkpoint...\nStarting Bronze Stream...Done\n\tWaiting for 30 seconds...Done.\n\tStarting validation...Done\nValidation passed.\n\nTesting Scenarion - Restart from where it stopped on the same checkpoint...\nStarting Bronze Stream...Done\n\tWaiting for 30 seconds...Done.\n\tStarting validation...Done\nValidation passed.\n\nTesting Scenario - Start from 1697945539000 on a new checkpoint...\nStarting Bronze Stream...Done\n\tWaiting for 30 seconds...Done.\n\tStarting validation...Done\nValidation passed.\n\n"
     ]
    }
   ],
   "source": [
    "# Databricks notebook source\n",
    "# MAGIC %run ./12-idempotent-kafka-to-bronze\n",
    "\n",
    "# COMMAND ----------\n",
    "\n",
    "class kafkaToBronzeTestSuite():\n",
    "    def __init__(self):\n",
    "        self.base_data_dir = \"/FileStore/data_spark_streaming_scholarnest\"\n",
    "     \n",
    "    def cleanTests(self):\n",
    "        print(f\"Starting Cleanup...\", end='')\n",
    "        spark.sql(\"drop table if exists invoices_bz\")\n",
    "        dbutils.fs.rm(\"/user/hive/warehouse/invoices_bz\", True)\n",
    "        dbutils.fs.rm(f\"{self.base_data_dir}/chekpoint/invoices_bz\", True)\n",
    "        print(\"Done\")\n",
    "\n",
    "    def assertResult(self, expected_count):\n",
    "        print(f\"\\tStarting validation...\", end='')\n",
    "        actual_count = spark.sql(\"select count(*) from invoices_bz\").collect()[0][0]\n",
    "        assert expected_count == actual_count, f\"Test failed! actual count is {actual_count}\"\n",
    "        print(\"Done\")\n",
    "\n",
    "    def waitForMicroBatch(self, sleep=30):\n",
    "        import time\n",
    "        print(f\"\\tWaiting for {sleep} seconds...\", end='')\n",
    "        time.sleep(sleep)\n",
    "        print(\"Done.\") \n",
    "    \n",
    "    def runTests(self):\n",
    "        self.cleanTests()\n",
    "        bzStream = Bronze()\n",
    "        value_schema = bzStream.getSchema()\n",
    "        spark.sql(f\"CREATE TABLE invoices_bz (key STRING, value STRUCT<{value_schema}>, topic STRING, timestamp TIMESTAMP)\")\n",
    "\n",
    "        print(\"Testing Scenario - Start from beginneing on a new checkpoint...\") \n",
    "        bzQuery = bzStream.process()\n",
    "        self.waitForMicroBatch() \n",
    "        bzQuery.stop()     \n",
    "        self.assertResult(28)\n",
    "        print(\"Validation passed.\\n\")\n",
    "\n",
    "        print(\"Testing Scenarion - Restart from where it stopped on the same checkpoint...\")\n",
    "        bzQuery = bzStream.process()\n",
    "        self.waitForMicroBatch()\n",
    "        bzQuery.stop()\n",
    "        self.assertResult(56)\n",
    "        print(\"Validation passed.\\n\") \n",
    "\n",
    "        print(\"Testing Scenario - Start from 1697945539000 on a new checkpoint...\") \n",
    "        dbutils.fs.rm(f\"{self.base_data_dir}/chekpoint/invoices_bz\", True)\n",
    "        bzQuery = bzStream.process(1697945539000)\n",
    "        self.waitForMicroBatch()\n",
    "        bzQuery.stop()\n",
    "        self.assertResult(56)\n",
    "        print(\"Validation passed.\\n\")\n",
    "\n",
    "\n",
    "# COMMAND ----------\n",
    "\n",
    "ts = kafkaToBronzeTestSuite()\n",
    "ts.runTests()\n",
    "\n",
    "# COMMAND ----------\n",
    "\n",
    "\n"
   ]
  }
 ],
 "metadata": {
  "application/vnd.databricks.v1+notebook": {
   "dashboards": [],
   "environmentMetadata": null,
   "language": "python",
   "notebookMetadata": {
    "pythonIndentUnit": 4
   },
   "notebookName": "13_idempotence_kafka_test",
   "widgets": {}
  }
 },
 "nbformat": 4,
 "nbformat_minor": 0
}
