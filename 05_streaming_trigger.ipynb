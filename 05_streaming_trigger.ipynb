{
 "cells": [
  {
   "cell_type": "code",
   "execution_count": 0,
   "metadata": {
    "application/vnd.databricks.v1+cell": {
     "cellMetadata": {
      "byteLimit": 2048000,
      "rowLimit": 10000
     },
     "inputWidgets": {},
     "nuid": "f8fc8bd3-510f-4e2c-bc8d-b43bbaf8d23e",
     "showTitle": false,
     "title": ""
    }
   },
   "outputs": [],
   "source": [
    "# Databricks notebook source\n",
    "class invoiceStreamBatch():\n",
    "    def __init__(self):\n",
    "        self.base_data_dir = \"/FileStore/data_spark_streaming_scholarnest\"\n",
    "\n",
    "    def getSchema(self):\n",
    "        return \"\"\"InvoiceNumber string, CreatedTime bigint, StoreID string, PosID string, CashierID string,\n",
    "                CustomerType string, CustomerCardNo string, TotalAmount double, NumberOfItems bigint, \n",
    "                PaymentMethod string, TaxableAmount double, CGST double, SGST double, CESS double, \n",
    "                DeliveryType string,\n",
    "                DeliveryAddress struct<AddressLine string, City string, ContactNumber string, PinCode string, \n",
    "                State string>,\n",
    "                InvoiceLineItems array<struct<ItemCode string, ItemDescription string, \n",
    "                    ItemPrice double, ItemQty bigint, TotalValue double>>\n",
    "            \"\"\"\n",
    "\n",
    "    def readInvoices(self):\n",
    "        return (spark.readStream\n",
    "                    .format(\"json\")\n",
    "                    .schema(self.getSchema())\n",
    "                    .load(f\"{self.base_data_dir}/data/invoices\")\n",
    "                )   \n",
    "\n",
    "    def explodeInvoices(self, invoiceDF):\n",
    "        return ( invoiceDF.selectExpr(\"InvoiceNumber\", \"CreatedTime\", \"StoreID\", \"PosID\",\n",
    "                                      \"CustomerType\", \"PaymentMethod\", \"DeliveryType\", \"DeliveryAddress.City\",\n",
    "                                      \"DeliveryAddress.State\",\"DeliveryAddress.PinCode\", \n",
    "                                      \"explode(InvoiceLineItems) as LineItem\")\n",
    "                                    )  \n",
    "           \n",
    "    def flattenInvoices(self, explodedDF):\n",
    "        from pyspark.sql.functions import expr\n",
    "        return( explodedDF.withColumn(\"ItemCode\", expr(\"LineItem.ItemCode\"))\n",
    "                        .withColumn(\"ItemDescription\", expr(\"LineItem.ItemDescription\"))\n",
    "                        .withColumn(\"ItemPrice\", expr(\"LineItem.ItemPrice\"))\n",
    "                        .withColumn(\"ItemQty\", expr(\"LineItem.ItemQty\"))\n",
    "                        .withColumn(\"TotalValue\", expr(\"LineItem.TotalValue\"))\n",
    "                        .drop(\"LineItem\")\n",
    "                )\n",
    "        \n",
    "    def appendInvoices(self, flattenedDF, trigger = \"batch\"):\n",
    "        sQuery = (flattenedDF.writeStream\n",
    "                    .format(\"delta\")\n",
    "                    .option(\"checkpointLocation\", f\"{self.base_data_dir}/chekpoint/invoices\")\n",
    "                    .outputMode(\"append\")\n",
    "                    .option(\"maxFilesPerTrigger\", 1)                    \n",
    "                )\n",
    "        \n",
    "        if (trigger == \"batch\"):\n",
    "            return ( sQuery.trigger(availableNow = True)\n",
    "                         .toTable(\"invoice_line_items\"))\n",
    "        else:\n",
    "            return ( sQuery.trigger(processingTime = trigger)\n",
    "                         .toTable(\"invoice_line_items\"))\n",
    "\n",
    "    def process(self, trigger = \"batch\"):\n",
    "           print(f\"Starting Invoice Processing Stream...\", end='')\n",
    "           invoicesDF = self.readInvoices()\n",
    "           explodedDF = self.explodeInvoices(invoicesDF)\n",
    "           resultDF = self.flattenInvoices(explodedDF)\n",
    "           sQuery = self.appendInvoices(resultDF, trigger)\n",
    "           print(\"Done\\n\")\n",
    "           return sQuery     \n",
    "\n",
    "# COMMAND ----------\n",
    "\n",
    "# MAGIC %md\n",
    "# MAGIC &copy; 2021-2023 <a href=\"https://www.scholarnest.com/\">ScholarNest Technologies Pvt. Ltd. </a>All rights reserved.<br/>\n",
    "# MAGIC <br/>\n",
    "# MAGIC <a href=\"https://www.scholarnest.com/privacy/\">Privacy Policy</a> | <a href=\"https://www.scholarnest.com/terms/\">Terms of Use</a> | <a href=\"https://www.scholarnest.com/contact-us/\">Contact Us</a>\n"
   ]
  }
 ],
 "metadata": {
  "application/vnd.databricks.v1+notebook": {
   "dashboards": [],
   "environmentMetadata": null,
   "language": "python",
   "notebookMetadata": {
    "pythonIndentUnit": 4
   },
   "notebookName": "05_streaming_trigger",
   "widgets": {}
  }
 },
 "nbformat": 4,
 "nbformat_minor": 0
}
