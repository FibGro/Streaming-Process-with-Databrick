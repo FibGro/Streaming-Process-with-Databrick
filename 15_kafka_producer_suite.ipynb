{
 "cells": [
  {
   "cell_type": "code",
   "execution_count": 0,
   "metadata": {
    "application/vnd.databricks.v1+cell": {
     "cellMetadata": {
      "byteLimit": 2048000,
      "rowLimit": 10000
     },
     "inputWidgets": {},
     "nuid": "965dde2b-c3e6-4699-ad76-34d8bb6ba5bc",
     "showTitle": false,
     "title": ""
    }
   },
   "outputs": [],
   "source": [
    "%run ./14_kafka_producer"
   ]
  },
  {
   "cell_type": "code",
   "execution_count": 0,
   "metadata": {
    "application/vnd.databricks.v1+cell": {
     "cellMetadata": {
      "byteLimit": 2048000,
      "rowLimit": 10000
     },
     "inputWidgets": {},
     "nuid": "98e5b1a2-a35c-4562-a486-c64612985298",
     "showTitle": false,
     "title": ""
    }
   },
   "outputs": [
    {
     "output_type": "stream",
     "name": "stdout",
     "output_type": "stream",
     "text": [
      "Starting Cleanup...Done\nStarting Kafka Producer Stream...Done\n\nTesting first iteration...\n\tStarting Ingestion...Done\n\tWaiting for 10 seconds...Done.\n\tStarting validation...Done\nValidation passed.\n\nTesting second iteration...\n\tStarting Ingestion...Done\n\tWaiting for 10 seconds...Done.\n\tStarting validation...Done\nValidation passed.\n\nTesting third iteration...\n\tStarting Ingestion...Done\n\tWaiting for 10 seconds...Done.\n\tStarting validation...Done\nValidation passed.\n\n"
     ]
    }
   ],
   "source": [
    "# Databricks notebook source\n",
    "# MAGIC %run ./14-kafka-producer\n",
    "\n",
    "# COMMAND ----------\n",
    "\n",
    "class KafkaProducerTestSuite():\n",
    "    def __init__(self):\n",
    "        self.base_data_dir = \"/FileStore/data_spark_streaming_scholarnest\"\n",
    "     \n",
    "    def cleanTests(self):\n",
    "        print(f\"Starting Cleanup...\", end='')        \n",
    "        dbutils.fs.rm(f\"{self.base_data_dir}/chekpoint/kafka_producer\", True)\n",
    "        dbutils.fs.rm(f\"{self.base_data_dir}/data/invoices\", True)\n",
    "        dbutils.fs.mkdirs(f\"{self.base_data_dir}/data/invoices\")\n",
    "        print(\"Done\")\n",
    "\n",
    "    def ingestData(self, itr):\n",
    "        print(f\"\\tStarting Ingestion...\", end='')\n",
    "        dbutils.fs.cp(f\"{self.base_data_dir}/datasets/invoices/invoices_{itr}.json\", f\"{self.base_data_dir}/data/invoices/\")\n",
    "        print(\"Done\")\n",
    "\n",
    "    def assertKafka(self, start_time, expected_count):\n",
    "        pd = KafkaProducer()\n",
    "        print(f\"\\tStarting validation...\", end='')\n",
    "        actual_count = ( spark.read\n",
    "                            .format(\"kafka\")\n",
    "                            .option(\"kafka.bootstrap.servers\", pd.BOOTSTRAP_SERVER)\n",
    "                            .option(\"kafka.security.protocol\", \"SASL_SSL\")\n",
    "                            .option(\"kafka.sasl.mechanism\", \"PLAIN\")\n",
    "                            .option(\"kafka.sasl.jaas.config\", f\"{pd.JAAS_MODULE} required username='{pd.CLUSTER_API_KEY}' password='{pd.CLUSTER_API_SECRET}';\")\n",
    "                            .option(\"subscribe\", \"invoices\")\n",
    "                            .option(\"startingTimestamp\", start_time)\n",
    "                            .option(\"startingOffsetsByTimestampStrategy\", \"latest\")\n",
    "                            .load()\n",
    "                            .count()\n",
    "                        )\n",
    "        assert expected_count == actual_count, f\"Test failed! actual topic count is {actual_count}\"\n",
    "        print(\"Done\")\n",
    "\n",
    "    def waitForMicroBatch(self, sleep=10):\n",
    "        import time\n",
    "        print(f\"\\tWaiting for {sleep} seconds...\", end='')\n",
    "        time.sleep(sleep)\n",
    "        print(\"Done.\") \n",
    "\n",
    "    def runTests(self):\n",
    "        import time\n",
    "        start_time = round(time.time() * 1000)\n",
    "\n",
    "        self.cleanTests()\n",
    "        kp = KafkaProducer()\n",
    "        kpStream = kp.process(\"StoreID == 'STR7188'\")\n",
    "\n",
    "        print(\"Testing first iteration...\")        \n",
    "        self.ingestData(1)\n",
    "        self.waitForMicroBatch()\n",
    "        self.assertKafka(start_time, 53)\n",
    "        print(\"Validation passed.\\n\")\n",
    "\n",
    "        print(\"Testing second iteration...\")\n",
    "        self.ingestData(2)\n",
    "        self.waitForMicroBatch()\n",
    "        self.assertKafka(start_time, 53+11)\n",
    "        print(\"Validation passed.\\n\") \n",
    "\n",
    "        print(\"Testing third iteration...\")\n",
    "        self.ingestData(3)\n",
    "        self.waitForMicroBatch()\n",
    "        self.assertKafka(start_time, 53+11+25)\n",
    "        print(\"Validation passed.\\n\")\n",
    "\n",
    "        kpStream.stop()\n",
    "\n",
    "\n",
    "# COMMAND ----------\n",
    "\n",
    "kpTS = KafkaProducerTestSuite()\n",
    "kpTS.runTests()\t\n"
   ]
  }
 ],
 "metadata": {
  "application/vnd.databricks.v1+notebook": {
   "dashboards": [],
   "environmentMetadata": null,
   "language": "python",
   "notebookMetadata": {
    "pythonIndentUnit": 4
   },
   "notebookName": "15_kafka_producer_suite",
   "widgets": {}
  }
 },
 "nbformat": 4,
 "nbformat_minor": 0
}
